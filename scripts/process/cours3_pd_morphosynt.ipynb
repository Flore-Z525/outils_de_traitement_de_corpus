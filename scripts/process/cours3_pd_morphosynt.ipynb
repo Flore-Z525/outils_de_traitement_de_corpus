{
 "cells": [
  {
   "cell_type": "code",
   "execution_count": 13,
   "id": "0800904f-00ec-4379-8467-a636a7f32b8a",
   "metadata": {},
   "outputs": [],
   "source": [
    "# lecture du fichier CSV dans un DataFrame 'df'\n",
    "\n",
    "import pandas as pd\n",
    "\n",
    "df = pd.read_csv(\"../../data/clean/reviews_with_ratings.csv\")\n",
    "\n",
    "# df"
   ]
  },
  {
   "cell_type": "code",
   "execution_count": 6,
   "id": "453dde76-ca95-4157-8db6-4e1eb79c93d5",
   "metadata": {},
   "outputs": [],
   "source": [
    "# création d'un objet Dataset à partir du DataFrame 'df'\n",
    "\n",
    "from datasets import Dataset\n",
    "\n",
    "dataset = Dataset.from_pandas(df)\n",
    "\n",
    "# dataset"
   ]
  },
  {
   "cell_type": "code",
   "execution_count": 11,
   "id": "d727203a-f2c0-4c3a-8aca-ae5d18b5429c",
   "metadata": {},
   "outputs": [
    {
     "data": {
      "text/plain": [
       "Index(['commentaire', 'classe'], dtype='object')"
      ]
     },
     "execution_count": 11,
     "metadata": {},
     "output_type": "execute_result"
    }
   ],
   "source": [
    "# afficher les noms des colonnes du DataFrame 'df'\n",
    "df.columns"
   ]
  },
  {
   "cell_type": "code",
   "execution_count": 12,
   "id": "35bb94d9-a8c4-4c0b-a468-ab1883fbdeba",
   "metadata": {},
   "outputs": [
    {
     "data": {
      "text/html": [
       "<div>\n",
       "<style scoped>\n",
       "    .dataframe tbody tr th:only-of-type {\n",
       "        vertical-align: middle;\n",
       "    }\n",
       "\n",
       "    .dataframe tbody tr th {\n",
       "        vertical-align: top;\n",
       "    }\n",
       "\n",
       "    .dataframe thead th {\n",
       "        text-align: right;\n",
       "    }\n",
       "</style>\n",
       "<table border=\"1\" class=\"dataframe\">\n",
       "  <thead>\n",
       "    <tr style=\"text-align: right;\">\n",
       "      <th></th>\n",
       "      <th>commentaire</th>\n",
       "      <th>classe</th>\n",
       "      <th>morpho_syntax</th>\n",
       "    </tr>\n",
       "  </thead>\n",
       "  <tbody>\n",
       "    <tr>\n",
       "      <th>0</th>\n",
       "      <td>I have rather enjoyed Neil Jordan's films in t...</td>\n",
       "      <td>negatif</td>\n",
       "      <td>(I, have, rather, enjoyed, Neil, Jordan, 's, f...</td>\n",
       "    </tr>\n",
       "    <tr>\n",
       "      <th>1</th>\n",
       "      <td>First let me start off by saying, I had every ...</td>\n",
       "      <td>negatif</td>\n",
       "      <td>(First, let, me, start, off, by, saying, ,, I,...</td>\n",
       "    </tr>\n",
       "    <tr>\n",
       "      <th>2</th>\n",
       "      <td>I was taken to a midnight showing of the first...</td>\n",
       "      <td>negatif</td>\n",
       "      <td>(I, was, taken, to, a, midnight, showing, of, ...</td>\n",
       "    </tr>\n",
       "    <tr>\n",
       "      <th>3</th>\n",
       "      <td>Trying to be as objective as possible from the...</td>\n",
       "      <td>negatif</td>\n",
       "      <td>(Trying, to, be, as, objective, as, possible, ...</td>\n",
       "    </tr>\n",
       "    <tr>\n",
       "      <th>4</th>\n",
       "      <td>Some of us may know the back story of how Tolk...</td>\n",
       "      <td>negatif</td>\n",
       "      <td>(Some, of, us, may, know, the, back, story, of...</td>\n",
       "    </tr>\n",
       "    <tr>\n",
       "      <th>...</th>\n",
       "      <td>...</td>\n",
       "      <td>...</td>\n",
       "      <td>...</td>\n",
       "    </tr>\n",
       "    <tr>\n",
       "      <th>113</th>\n",
       "      <td>Whatever your thoughts are about Marvel you ha...</td>\n",
       "      <td>positif</td>\n",
       "      <td>(Whatever, your, thoughts, are, about, Marvel,...</td>\n",
       "    </tr>\n",
       "    <tr>\n",
       "      <th>114</th>\n",
       "      <td>Doctor strange and the multiverse of madness i...</td>\n",
       "      <td>positif</td>\n",
       "      <td>(Doctor, strange, and, the, multiverse, of, ma...</td>\n",
       "    </tr>\n",
       "    <tr>\n",
       "      <th>115</th>\n",
       "      <td>Actually, I expected many things in the movie ...</td>\n",
       "      <td>positif</td>\n",
       "      <td>(Actually, ,, I, expected, many, things, in, t...</td>\n",
       "    </tr>\n",
       "    <tr>\n",
       "      <th>116</th>\n",
       "      <td>Movie review: - Doctor Strange In The Multiver...</td>\n",
       "      <td>positif</td>\n",
       "      <td>(Movie, review, :, -, Doctor, Strange, In, The...</td>\n",
       "    </tr>\n",
       "    <tr>\n",
       "      <th>117</th>\n",
       "      <td>The main story, being quite absurd and ordinar...</td>\n",
       "      <td>positif</td>\n",
       "      <td>(The, main, story, ,, being, quite, absurd, an...</td>\n",
       "    </tr>\n",
       "  </tbody>\n",
       "</table>\n",
       "<p>118 rows × 3 columns</p>\n",
       "</div>"
      ],
      "text/plain": [
       "                                           commentaire   classe  \\\n",
       "0    I have rather enjoyed Neil Jordan's films in t...  negatif   \n",
       "1    First let me start off by saying, I had every ...  negatif   \n",
       "2    I was taken to a midnight showing of the first...  negatif   \n",
       "3    Trying to be as objective as possible from the...  negatif   \n",
       "4    Some of us may know the back story of how Tolk...  negatif   \n",
       "..                                                 ...      ...   \n",
       "113  Whatever your thoughts are about Marvel you ha...  positif   \n",
       "114  Doctor strange and the multiverse of madness i...  positif   \n",
       "115  Actually, I expected many things in the movie ...  positif   \n",
       "116  Movie review: - Doctor Strange In The Multiver...  positif   \n",
       "117  The main story, being quite absurd and ordinar...  positif   \n",
       "\n",
       "                                         morpho_syntax  \n",
       "0    (I, have, rather, enjoyed, Neil, Jordan, 's, f...  \n",
       "1    (First, let, me, start, off, by, saying, ,, I,...  \n",
       "2    (I, was, taken, to, a, midnight, showing, of, ...  \n",
       "3    (Trying, to, be, as, objective, as, possible, ...  \n",
       "4    (Some, of, us, may, know, the, back, story, of...  \n",
       "..                                                 ...  \n",
       "113  (Whatever, your, thoughts, are, about, Marvel,...  \n",
       "114  (Doctor, strange, and, the, multiverse, of, ma...  \n",
       "115  (Actually, ,, I, expected, many, things, in, t...  \n",
       "116  (Movie, review, :, -, Doctor, Strange, In, The...  \n",
       "117  (The, main, story, ,, being, quite, absurd, an...  \n",
       "\n",
       "[118 rows x 3 columns]"
      ]
     },
     "execution_count": 12,
     "metadata": {},
     "output_type": "execute_result"
    }
   ],
   "source": [
    "# effectuer une analyse morphosyntaxique sur la colonne 'commentaire' du DataFrame 'df'\n",
    "\n",
    "import spacy\n",
    "\n",
    "nlp = spacy.load(\"en_core_web_sm\")\n",
    "\n",
    "df['morpho_syntax'] = df['commentaire'].apply(lambda x: nlp(x))\n",
    "\n",
    "df"
   ]
  },
  {
   "cell_type": "code",
   "execution_count": null,
   "id": "81b13b02-a3ed-4735-8afe-9126a918f43f",
   "metadata": {},
   "outputs": [],
   "source": []
  }
 ],
 "metadata": {
  "kernelspec": {
   "display_name": "Python 3 (ipykernel)",
   "language": "python",
   "name": "python3"
  },
  "language_info": {
   "codemirror_mode": {
    "name": "ipython",
    "version": 3
   },
   "file_extension": ".py",
   "mimetype": "text/x-python",
   "name": "python",
   "nbconvert_exporter": "python",
   "pygments_lexer": "ipython3",
   "version": "3.11.5"
  }
 },
 "nbformat": 4,
 "nbformat_minor": 5
}
