{
 "cells": [
  {
   "cell_type": "code",
   "execution_count": 7,
   "id": "92e33bd6-3a6c-4f4d-b715-881e9e145d6f",
   "metadata": {},
   "outputs": [],
   "source": [
    "import requests\n",
    "\n",
    "r = requests.get('https://www.imdb.com/title/tt0411195/reviews?ref_=tt_urv')\n",
    "\n",
    "from os import chdir\n",
    "chdir(\"../../data/raw\")\n",
    "\n",
    "with open(\"content_raw.txt\", \"w\", encoding=\"utf-8\") as output_raw: \n",
    "    output_raw.write(str(r.content))\n",
    "    output_raw.close()"
   ]
  },
  {
   "cell_type": "code",
   "execution_count": 14,
   "id": "0528eaa3-e341-455b-80b7-f224e74c9198",
   "metadata": {},
   "outputs": [],
   "source": [
    "import requests\n",
    "from bs4 import BeautifulSoup\n",
    "\n",
    "# 发送 GET 请求获取网页内容\n",
    "url = \"https://www.imdb.com/title/tt0411195/reviews?ref_=tt_urv\"\n",
    "response = requests.get(url)\n",
    "\n",
    "# 使用 BeautifulSoup 解析 HTML 内容\n",
    "soup = BeautifulSoup(response.content, \"html.parser\")\n",
    "\n",
    "# 找到所有具有 class=\"text showmore__control\" 的 div 元素\n",
    "reviews = soup.find_all(\"div\", class_=\"text showmore__control\")\n",
    "\n",
    "# 打印提取到的内容\n",
    "for review in reviews:\n",
    "    print(review.text.strip())\n"
   ]
  },
  {
   "cell_type": "code",
   "execution_count": null,
   "id": "500b4e0c-34a0-4848-9431-e60f9b8b5f0b",
   "metadata": {},
   "outputs": [],
   "source": []
  }
 ],
 "metadata": {
  "kernelspec": {
   "display_name": "Python 3 (ipykernel)",
   "language": "python",
   "name": "python3"
  },
  "language_info": {
   "codemirror_mode": {
    "name": "ipython",
    "version": 3
   },
   "file_extension": ".py",
   "mimetype": "text/x-python",
   "name": "python",
   "nbconvert_exporter": "python",
   "pygments_lexer": "ipython3",
   "version": "3.11.7"
  }
 },
 "nbformat": 4,
 "nbformat_minor": 5
}
